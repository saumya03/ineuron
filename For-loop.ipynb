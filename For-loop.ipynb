{
 "cells": [
  {
   "cell_type": "code",
   "execution_count": 1,
   "id": "f606fa4f",
   "metadata": {},
   "outputs": [],
   "source": [
    "l = [1,2,3,4, \"saumya\", \"gupta\", 23.45]\n"
   ]
  },
  {
   "cell_type": "code",
   "execution_count": 2,
   "id": "83f01c9f",
   "metadata": {},
   "outputs": [
    {
     "name": "stdout",
     "output_type": "stream",
     "text": [
      "1\n",
      "2\n",
      "3\n"
     ]
    }
   ],
   "source": [
    "for i in l:\n",
    "    if i==4:\n",
    "        break\n",
    "    print(i)\n",
    "else:\n",
    "    (\"print something\")"
   ]
  },
  {
   "cell_type": "code",
   "execution_count": 3,
   "id": "23000741",
   "metadata": {},
   "outputs": [],
   "source": [
    "d = {\"name\": \"saumya\", \"title\":\"data scientist\",\"location\": \"lucknow\"}\n",
    "\n"
   ]
  },
  {
   "cell_type": "code",
   "execution_count": 4,
   "id": "9e337e73",
   "metadata": {},
   "outputs": [
    {
     "name": "stdout",
     "output_type": "stream",
     "text": [
      "name\n",
      "title\n",
      "location\n"
     ]
    }
   ],
   "source": [
    "for i in d:\n",
    "    print(i)"
   ]
  },
  {
   "cell_type": "code",
   "execution_count": 5,
   "id": "500147c6",
   "metadata": {},
   "outputs": [
    {
     "name": "stdout",
     "output_type": "stream",
     "text": [
      "saumya\n",
      "data scientist\n",
      "lucknow\n"
     ]
    }
   ],
   "source": [
    "for i in d.values():\n",
    "    print(i)"
   ]
  },
  {
   "cell_type": "code",
   "execution_count": 6,
   "id": "02f40ea8",
   "metadata": {},
   "outputs": [
    {
     "name": "stdout",
     "output_type": "stream",
     "text": [
      "saumya\n",
      "data scientist\n",
      "lucknow\n"
     ]
    }
   ],
   "source": [
    "for i in d:\n",
    "    print(d[i])"
   ]
  },
  {
   "cell_type": "code",
   "execution_count": 8,
   "id": "bab0eb32",
   "metadata": {},
   "outputs": [
    {
     "name": "stdout",
     "output_type": "stream",
     "text": [
      "name : saumya\n",
      "title : data scientist\n",
      "location : lucknow\n"
     ]
    }
   ],
   "source": [
    "for i in d:\n",
    "    print(i,\":\",d[i])"
   ]
  },
  {
   "cell_type": "code",
   "execution_count": 9,
   "id": "5ee24655",
   "metadata": {},
   "outputs": [
    {
     "data": {
      "text/plain": [
       "range(0, 9)"
      ]
     },
     "execution_count": 9,
     "metadata": {},
     "output_type": "execute_result"
    }
   ],
   "source": [
    "range(9)"
   ]
  },
  {
   "cell_type": "code",
   "execution_count": 11,
   "id": "8c6a0991",
   "metadata": {},
   "outputs": [],
   "source": [
    "a = list(range(9))"
   ]
  },
  {
   "cell_type": "code",
   "execution_count": 12,
   "id": "7825de3b",
   "metadata": {},
   "outputs": [
    {
     "data": {
      "text/plain": [
       "[0, 1, 2, 3, 4, 5, 6, 7, 8]"
      ]
     },
     "execution_count": 12,
     "metadata": {},
     "output_type": "execute_result"
    }
   ],
   "source": [
    "a"
   ]
  },
  {
   "cell_type": "code",
   "execution_count": 18,
   "id": "4cdcc3b9",
   "metadata": {},
   "outputs": [
    {
     "name": "stdout",
     "output_type": "stream",
     "text": [
      "saumya \n",
      "\n",
      "saumya saumya \n",
      "\n",
      "saumya saumya saumya \n",
      "\n",
      "saumya saumya saumya saumya \n",
      "\n"
     ]
    }
   ],
   "source": [
    "for i in range(0,4): #each row\n",
    "    for j in range(i+1): #in each row how many elements you need to put\n",
    "        print(\"saumya\", end=\" \") #space\n",
    "    print(\"\\n\") #new line"
   ]
  },
  {
   "cell_type": "code",
   "execution_count": 26,
   "id": "45df8ccc",
   "metadata": {},
   "outputs": [
    {
     "name": "stdout",
     "output_type": "stream",
     "text": [
      "saumya    \r\n",
      "saumya    saumya    \r\n",
      "saumya    saumya    saumya    \r\n"
     ]
    }
   ],
   "source": [
    "for i in range(0,3): #no of row\n",
    "    for j in range(i+1): #in each row how many elements you need to put/ no. of columns\n",
    "        print(\"saumya\", end=\"    \") #space\n",
    "    print(\"\\r\") #new line"
   ]
  },
  {
   "cell_type": "code",
   "execution_count": 4,
   "id": "72e9fa72",
   "metadata": {},
   "outputs": [],
   "source": [
    "saum = (23,45,67,89,40,67)"
   ]
  },
  {
   "cell_type": "code",
   "execution_count": 12,
   "id": "8b2052b8",
   "metadata": {},
   "outputs": [
    {
     "name": "stdout",
     "output_type": "stream",
     "text": [
      "0 23\n",
      "1 45\n",
      "2 67\n",
      "3 89\n",
      "4 40\n",
      "5 67\n"
     ]
    }
   ],
   "source": [
    "len(saum)\n",
    "for i in range(len(saum)):\n",
    "    print(i, saum[i])"
   ]
  },
  {
   "cell_type": "code",
   "execution_count": 35,
   "id": "71a2d99c",
   "metadata": {},
   "outputs": [
    {
     "name": "stdout",
     "output_type": "stream",
     "text": [
      "5 67\n",
      "4 40\n",
      "3 89\n",
      "2 67\n",
      "1 45\n",
      "0 23\n"
     ]
    }
   ],
   "source": [
    "#reverse of above\n",
    "for i in list(range(len(saum)-1,-1, -1)):\n",
    "    print(i, saum[i])\n"
   ]
  },
  {
   "cell_type": "code",
   "execution_count": 43,
   "id": "4f6241dc",
   "metadata": {},
   "outputs": [
    {
     "data": {
      "text/plain": [
       "dict_items([('name', 'saumya'), ('title', 'data scientist'), ('location', 'lucknow'), ('phone', 7330760065)])"
      ]
     },
     "execution_count": 43,
     "metadata": {},
     "output_type": "execute_result"
    }
   ],
   "source": [
    "d = {\"name\": \"saumya\", \"title\":\"data scientist\",\"location\": \"lucknow\", \"phone\" : 7330760065}\n",
    "d.items()"
   ]
  },
  {
   "cell_type": "code",
   "execution_count": 44,
   "id": "3e7473a9",
   "metadata": {},
   "outputs": [
    {
     "name": "stdout",
     "output_type": "stream",
     "text": [
      "('name', 'saumya') <class 'tuple'> <class 'str'>\n",
      "('title', 'data scientist') <class 'tuple'> <class 'str'>\n",
      "('location', 'lucknow') <class 'tuple'> <class 'str'>\n",
      "('phone', 7330760065) <class 'tuple'> <class 'int'>\n"
     ]
    }
   ],
   "source": [
    "for i in d.items():\n",
    "    print(i, type(i), type(i[1]))"
   ]
  },
  {
   "cell_type": "code",
   "execution_count": 45,
   "id": "76c2345c",
   "metadata": {},
   "outputs": [],
   "source": [
    "l = [1,2,3,4, \"saumya\", \"gupta\", 23.45]"
   ]
  },
  {
   "cell_type": "code",
   "execution_count": 51,
   "id": "2b275a7d",
   "metadata": {},
   "outputs": [],
   "source": [
    "newl = []\n",
    "for i in l:\n",
    "    if type(i)==int:\n",
    "        newl.append(i)"
   ]
  },
  {
   "cell_type": "code",
   "execution_count": 52,
   "id": "0fac7299",
   "metadata": {},
   "outputs": [
    {
     "data": {
      "text/plain": [
       "[1, 2, 3, 4]"
      ]
     },
     "execution_count": 52,
     "metadata": {},
     "output_type": "execute_result"
    }
   ],
   "source": [
    "newl"
   ]
  },
  {
   "cell_type": "code",
   "execution_count": 56,
   "id": "940837e4",
   "metadata": {},
   "outputs": [],
   "source": [
    "d = {\"name\": \"saumya\", \"title\":\"data scientist\",\"location\": \"lucknow\", \"phone\" : 7330760065, \"email\":\"saumya.guptalko@gmail.com\", 1:234, 2:876}"
   ]
  },
  {
   "cell_type": "code",
   "execution_count": 57,
   "id": "8787a8b5",
   "metadata": {},
   "outputs": [
    {
     "data": {
      "text/plain": [
       "{'name': 'saumya',\n",
       " 'title': 'data scientist',\n",
       " 'location': 'lucknow',\n",
       " 'phone': 7330760065,\n",
       " 'email': 'saumya.guptalko@gmail.com',\n",
       " 1: 234,\n",
       " 2: 876}"
      ]
     },
     "execution_count": 57,
     "metadata": {},
     "output_type": "execute_result"
    }
   ],
   "source": [
    "d"
   ]
  },
  {
   "cell_type": "code",
   "execution_count": 67,
   "id": "9ce21c7d",
   "metadata": {},
   "outputs": [
    {
     "name": "stdout",
     "output_type": "stream",
     "text": [
      "1 234\n",
      "2 876\n"
     ]
    }
   ],
   "source": [
    "for i in d:\n",
    "    if type(i)== int:\n",
    "        print(i, d[i]) #i will give keys, d[i] will give values"
   ]
  },
  {
   "cell_type": "code",
   "execution_count": 68,
   "id": "883e02a7",
   "metadata": {},
   "outputs": [],
   "source": [
    "s = \"aabbbbccccdddd\""
   ]
  },
  {
   "cell_type": "code",
   "execution_count": 89,
   "id": "56a60efc",
   "metadata": {},
   "outputs": [
    {
     "name": "stdout",
     "output_type": "stream",
     "text": [
      "c : 4\n",
      "b : 4\n",
      "d : 4\n",
      "a : 2\n"
     ]
    }
   ],
   "source": [
    "for i in set(s):\n",
    "    print(i, \":\", s.count(i))"
   ]
  },
  {
   "cell_type": "code",
   "execution_count": 88,
   "id": "27116797",
   "metadata": {},
   "outputs": [
    {
     "data": {
      "text/plain": [
       "2"
      ]
     },
     "execution_count": 88,
     "metadata": {},
     "output_type": "execute_result"
    }
   ],
   "source": [
    "\n",
    "s.count(\"a\")"
   ]
  },
  {
   "cell_type": "code",
   "execution_count": 100,
   "id": "4c07eb49",
   "metadata": {},
   "outputs": [
    {
     "name": "stdout",
     "output_type": "stream",
     "text": [
      "2 <class 'int'>\n",
      "3 <class 'int'>\n",
      "4 <class 'int'>\n",
      "5 <class 'int'>\n",
      "6 <class 'int'>\n",
      "7 <class 'int'>\n",
      "8 <class 'int'>\n",
      "9 <class 'int'>\n",
      "4 <class 'int'>\n",
      "6 <class 'int'>\n",
      "7 <class 'int'>\n"
     ]
    }
   ],
   "source": [
    "#print below one by one, but can't iterate integer so convert it into str and then finally result into int\n",
    "j = 23456789467\n",
    "for i in str(j):\n",
    "    print(int(i), type(int(i)))\n",
    "    \n",
    "    "
   ]
  },
  {
   "cell_type": "code",
   "execution_count": 116,
   "id": "a92a2e48",
   "metadata": {},
   "outputs": [],
   "source": [
    "t = ((1,2,3,4),[1,2,5,6,3], \"saumya\", \"gupta\", {\"name\": \"saumya\", \"title\":\"data scientist\",\"location\": \"lucknow\", 3:3})"
   ]
  },
  {
   "cell_type": "code",
   "execution_count": 130,
   "id": "b45360c2",
   "metadata": {},
   "outputs": [
    {
     "name": "stdout",
     "output_type": "stream",
     "text": [
      "3\n",
      "3\n",
      "3\n",
      "3\n"
     ]
    }
   ],
   "source": [
    "for i in t:\n",
    "    if type(i)==list or type(i)==tuple:\n",
    "        for j in i:\n",
    "            if j==3:\n",
    "                print(j)\n",
    "    if type(i)==dict:\n",
    "        for k,v in i.items(): #by default k is assigned to keys, v is assigned to values\n",
    "            if k==3 or v==3:\n",
    "                print(k)\n",
    "                print(v)\n",
    "         \n",
    "    "
   ]
  },
  {
   "cell_type": "code",
   "execution_count": null,
   "id": "b47a318e",
   "metadata": {},
   "outputs": [],
   "source": []
  },
  {
   "cell_type": "code",
   "execution_count": null,
   "id": "334ab563",
   "metadata": {},
   "outputs": [],
   "source": []
  }
 ],
 "metadata": {
  "kernelspec": {
   "display_name": "Python 3 (ipykernel)",
   "language": "python",
   "name": "python3"
  },
  "language_info": {
   "codemirror_mode": {
    "name": "ipython",
    "version": 3
   },
   "file_extension": ".py",
   "mimetype": "text/x-python",
   "name": "python",
   "nbconvert_exporter": "python",
   "pygments_lexer": "ipython3",
   "version": "3.9.7"
  }
 },
 "nbformat": 4,
 "nbformat_minor": 5
}
