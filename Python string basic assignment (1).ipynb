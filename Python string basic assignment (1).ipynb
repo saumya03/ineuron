{
 "cells": [
  {
   "cell_type": "raw",
   "id": "c5589c29",
   "metadata": {},
   "source": [
    "s = \"this is My First Python programming class and i am learNING python string and its function\"\n",
    "1 . Try to extract data from index one to index 300 with a jump of 3 \n",
    "2. Try to reverse a string without using reverse function \n",
    "3. Try to split a string after conversion of entire string in uppercase \n",
    "4. try to convert the whole string into lower case \n",
    "5 . Try to capitalize the whole string \n",
    "6 . Write a diference between isalnum() and isalpha()\n",
    "7. Try to give an example of expand tab\n",
    "8 . Give an example of strip , lstrip and rstrip \n",
    "9.  Replace a string charecter by another charector by taking your own example \n",
    "\"sudhanshu\"\n",
    "10 . Try  to give a defination of string center function with and exmple \n",
    "11 . Write your own definition of compiler and interpretor without copy paste form internet in your own language\n",
    "12 . Python is a interpreted of compiled language give a clear ans with your understanding \n",
    "13 . Try to write a usecase of python with your understanding .\n",
    "\n",
    "\n",
    "you have to send a jupyter notebook to shivan@ineuron.ai before next saturday class 21st of may ."
   ]
  },
  {
   "cell_type": "code",
   "execution_count": 1,
   "id": "1a1ae937",
   "metadata": {},
   "outputs": [
    {
     "data": {
      "text/plain": [
       "'h   r tnrrmglsnimeNGyosi dtfco'"
      ]
     },
     "execution_count": 1,
     "metadata": {},
     "output_type": "execute_result"
    }
   ],
   "source": [
    "s = \"this is My First Python programming class and i am learNING python string and its function\"\n",
    "s[1:301:3]"
   ]
  },
  {
   "cell_type": "code",
   "execution_count": 2,
   "id": "d4c3898b",
   "metadata": {},
   "outputs": [
    {
     "data": {
      "text/plain": [
       "'noitcnuf sti dna gnirts nohtyp GNINrael ma i dna ssalc gnimmargorp nohtyP tsriF yM si siht'"
      ]
     },
     "execution_count": 2,
     "metadata": {},
     "output_type": "execute_result"
    }
   ],
   "source": [
    "s[::-1]"
   ]
  },
  {
   "cell_type": "code",
   "execution_count": 5,
   "id": "61a4ff50",
   "metadata": {},
   "outputs": [
    {
     "data": {
      "text/plain": [
       "['THIS',\n",
       " 'IS',\n",
       " 'MY',\n",
       " 'FIRST',\n",
       " 'PYTHON',\n",
       " 'PROGRAMMING',\n",
       " 'CLASS',\n",
       " 'AND',\n",
       " 'I',\n",
       " 'AM',\n",
       " 'LEARNING',\n",
       " 'PYTHON',\n",
       " 'STRING',\n",
       " 'AND',\n",
       " 'ITS',\n",
       " 'FUNCTION']"
      ]
     },
     "execution_count": 5,
     "metadata": {},
     "output_type": "execute_result"
    }
   ],
   "source": [
    "s.upper().split()"
   ]
  },
  {
   "cell_type": "code",
   "execution_count": 6,
   "id": "585b49cd",
   "metadata": {},
   "outputs": [
    {
     "data": {
      "text/plain": [
       "'this is my first python programming class and i am learning python string and its function'"
      ]
     },
     "execution_count": 6,
     "metadata": {},
     "output_type": "execute_result"
    }
   ],
   "source": [
    "s.lower()"
   ]
  },
  {
   "cell_type": "code",
   "execution_count": 7,
   "id": "55dd777c",
   "metadata": {},
   "outputs": [
    {
     "data": {
      "text/plain": [
       "'This is my first python programming class and i am learning python string and its function'"
      ]
     },
     "execution_count": 7,
     "metadata": {},
     "output_type": "execute_result"
    }
   ],
   "source": [
    "s.capitalize()"
   ]
  },
  {
   "cell_type": "code",
   "execution_count": 10,
   "id": "159c7820",
   "metadata": {},
   "outputs": [
    {
     "data": {
      "text/plain": [
       "False"
      ]
     },
     "execution_count": 10,
     "metadata": {},
     "output_type": "execute_result"
    }
   ],
   "source": [
    "#Write a diference between isalnum() and isalpha()\n",
    "\n",
    "s.isalnum()"
   ]
  },
  {
   "cell_type": "code",
   "execution_count": 9,
   "id": "18cdb3f0",
   "metadata": {},
   "outputs": [
    {
     "data": {
      "text/plain": [
       "False"
      ]
     },
     "execution_count": 9,
     "metadata": {},
     "output_type": "execute_result"
    }
   ],
   "source": [
    "s.isalpha()"
   ]
  },
  {
   "cell_type": "markdown",
   "id": "c3aef9f3",
   "metadata": {},
   "source": [
    "###### .isalnum() will be \"true\" if string is either alpha or numeric and .isalpha() will be \"true\" only if the string is alpha. Above string is giving FALSE because string contains whitespaces which are not alpha or numeric"
   ]
  },
  {
   "cell_type": "code",
   "execution_count": 16,
   "id": "334126bb",
   "metadata": {},
   "outputs": [
    {
     "data": {
      "text/plain": [
       "'this    is      My      First   Python  programming     class   and     i am learNING python string and its function'"
      ]
     },
     "execution_count": 16,
     "metadata": {},
     "output_type": "execute_result"
    }
   ],
   "source": [
    "#Try to give an example of expand tab\n",
    "s1 = 'this\\tis\\tMy\\tFirst\\tPython\\tprogramming\\tclass\\tand\\ti am learNING python string and its function'\n",
    "s1.expandtabs()"
   ]
  },
  {
   "cell_type": "markdown",
   "id": "87a230d7",
   "metadata": {},
   "source": [
    "##### expand tabs removes tab and replaces it with 3 spaces"
   ]
  },
  {
   "cell_type": "code",
   "execution_count": 23,
   "id": "ef2cd47d",
   "metadata": {},
   "outputs": [
    {
     "data": {
      "text/plain": [
       "'this is my first python programming class and i am learning python string and its function'"
      ]
     },
     "execution_count": 23,
     "metadata": {},
     "output_type": "execute_result"
    }
   ],
   "source": [
    "#Give an example of strip , lstrip and rstrip \n",
    "s2 = \"         this is my first python programming class and i am learning python string and its function          \"\n",
    "s2.strip()"
   ]
  },
  {
   "cell_type": "code",
   "execution_count": 24,
   "id": "c182e6e3",
   "metadata": {},
   "outputs": [
    {
     "data": {
      "text/plain": [
       "'this is my first python programming class and i am learning python string and its function          '"
      ]
     },
     "execution_count": 24,
     "metadata": {},
     "output_type": "execute_result"
    }
   ],
   "source": [
    "s2.lstrip()"
   ]
  },
  {
   "cell_type": "code",
   "execution_count": 25,
   "id": "af687e15",
   "metadata": {},
   "outputs": [
    {
     "data": {
      "text/plain": [
       "'         this is my first python programming class and i am learning python string and its function'"
      ]
     },
     "execution_count": 25,
     "metadata": {},
     "output_type": "execute_result"
    }
   ],
   "source": [
    "s2.rstrip()"
   ]
  },
  {
   "cell_type": "code",
   "execution_count": 46,
   "id": "eaf46bb3",
   "metadata": {},
   "outputs": [
    {
     "data": {
      "text/plain": [
       "'Summi Gupta'"
      ]
     },
     "execution_count": 46,
     "metadata": {},
     "output_type": "execute_result"
    }
   ],
   "source": [
    "#Replace a string charecter by another charector\n",
    "\"saumya\"\n",
    "s3 = \"saumya Gupta\"\n",
    "s3.replace(\"saumya\", \"Summi\")"
   ]
  },
  {
   "cell_type": "code",
   "execution_count": 43,
   "id": "a8a4aec6",
   "metadata": {},
   "outputs": [
    {
     "data": {
      "text/plain": [
       "'#######saumya#######'"
      ]
     },
     "execution_count": 43,
     "metadata": {},
     "output_type": "execute_result"
    }
   ],
   "source": [
    "#Try to give a defination of string center function with and exmple \n",
    "s3.center(20, '#')"
   ]
  },
  {
   "cell_type": "markdown",
   "id": "72353759",
   "metadata": {},
   "source": [
    "##### The above \"center\" reserves space of 20, keeping the string in center and fills it with what we give in parameter"
   ]
  },
  {
   "cell_type": "markdown",
   "id": "e4558b6b",
   "metadata": {},
   "source": [
    "#Write your own definition of compiler and interpretor without copy paste form internet in your own language. Python is a interpreted of compiled language give a clear ans with your understanding \n"
   ]
  },
  {
   "cell_type": "markdown",
   "id": "29eef470",
   "metadata": {},
   "source": [
    "###### Python is both compiler and interpretor language. First it compiles and then interprets/translates to comprehensible language. As a Compiler it compiles the code by scanning the whole program in one go and execution of the program takes place only after the whole program is compiled. And as a Interpretor python translates the program one statement at a time, execution of the program happens after every line is checked or evaluated. It checks in every line whether syntax/ indentation is correct, if there is some error it won't give output."
   ]
  },
  {
   "cell_type": "markdown",
   "id": "ccc3ce7b",
   "metadata": {},
   "source": [
    "#Try to write a usecase of python with your understanding \n"
   ]
  },
  {
   "cell_type": "markdown",
   "id": "97b3e8ba",
   "metadata": {},
   "source": [
    "##### Python is used for developing apps, softwares, development purpose, data analysis, web scraping, any of the data science activities for various domains. Ex: In banking- Fraud detection, In shopping apps or netflix apps- Developing Recommendation engine, etc"
   ]
  },
  {
   "cell_type": "code",
   "execution_count": null,
   "id": "95997b04",
   "metadata": {},
   "outputs": [],
   "source": []
  }
 ],
 "metadata": {
  "kernelspec": {
   "display_name": "Python 3 (ipykernel)",
   "language": "python",
   "name": "python3"
  },
  "language_info": {
   "codemirror_mode": {
    "name": "ipython",
    "version": 3
   },
   "file_extension": ".py",
   "mimetype": "text/x-python",
   "name": "python",
   "nbconvert_exporter": "python",
   "pygments_lexer": "ipython3",
   "version": "3.9.7"
  }
 },
 "nbformat": 4,
 "nbformat_minor": 5
}
