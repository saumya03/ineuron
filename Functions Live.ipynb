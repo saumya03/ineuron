{
 "cells": [
  {
   "cell_type": "code",
   "execution_count": 16,
   "id": "1486cf53",
   "metadata": {},
   "outputs": [],
   "source": [
    "def test(a,b): #input parameters is given in tupple(), and we can perform any operation in tupple\n",
    "    '''this is saumya concatenation fun''' #my docstring\n",
    "    print (a+b)"
   ]
  },
  {
   "cell_type": "code",
   "execution_count": 17,
   "id": "415a43d0",
   "metadata": {},
   "outputs": [
    {
     "name": "stdout",
     "output_type": "stream",
     "text": [
      "60\n"
     ]
    }
   ],
   "source": [
    "test(10,50) #after test shift+tab you can see your own docstring"
   ]
  },
  {
   "cell_type": "code",
   "execution_count": 12,
   "id": "69ea11a3",
   "metadata": {},
   "outputs": [
    {
     "name": "stdout",
     "output_type": "stream",
     "text": [
      "saumyagupta\n"
     ]
    }
   ],
   "source": [
    "test(\"saumya\",  \"gupta\")"
   ]
  },
  {
   "cell_type": "markdown",
   "id": "7a58b93a",
   "metadata": {},
   "source": []
  },
  {
   "cell_type": "code",
   "execution_count": 13,
   "id": "b82336d0",
   "metadata": {},
   "outputs": [
    {
     "name": "stdout",
     "output_type": "stream",
     "text": [
      "70\n"
     ]
    }
   ],
   "source": [
    "test(a=10, b=60) #output is tupple"
   ]
  },
  {
   "cell_type": "code",
   "execution_count": 22,
   "id": "81f6b665",
   "metadata": {},
   "outputs": [],
   "source": [
    "#can any no of parameter , put asterisk\n",
    "def test1(*a):\n",
    "    print (a)"
   ]
  },
  {
   "cell_type": "code",
   "execution_count": 25,
   "id": "07cadae9",
   "metadata": {},
   "outputs": [
    {
     "name": "stdout",
     "output_type": "stream",
     "text": [
      "(130, 100)\n"
     ]
    }
   ],
   "source": [
    "test1(30+40+60, 40+60)"
   ]
  },
  {
   "cell_type": "code",
   "execution_count": 26,
   "id": "e1aba701",
   "metadata": {},
   "outputs": [],
   "source": [
    "#can any no of multiple(parameter) , put asterisk, args is not a keyword its just a name, we can put any name inplace of args(just a notation)\n",
    "def test2(*args):\n",
    "    print (args)"
   ]
  },
  {
   "cell_type": "code",
   "execution_count": 27,
   "id": "a649e2f8",
   "metadata": {},
   "outputs": [
    {
     "name": "stdout",
     "output_type": "stream",
     "text": [
      "(70,)\n"
     ]
    }
   ],
   "source": [
    "test2(40+30)"
   ]
  },
  {
   "cell_type": "code",
   "execution_count": 28,
   "id": "6ec06123",
   "metadata": {},
   "outputs": [],
   "source": [
    "#we have get the output in list, previously it gave in tupple\n",
    "def test3(*args):\n",
    "    l=[]\n",
    "    for i in args:\n",
    "        l.append(i)\n",
    "    print (l)"
   ]
  },
  {
   "cell_type": "code",
   "execution_count": 29,
   "id": "52362016",
   "metadata": {},
   "outputs": [
    {
     "name": "stdout",
     "output_type": "stream",
     "text": [
      "[20, 30, 40, 50]\n"
     ]
    }
   ],
   "source": [
    "test3(20,30,40,50)"
   ]
  },
  {
   "cell_type": "code",
   "execution_count": 30,
   "id": "3ba66325",
   "metadata": {},
   "outputs": [],
   "source": [
    "def test4(*m, a,b,c):\n",
    "    print (m, a, b,c)\n",
    "    \n"
   ]
  },
  {
   "cell_type": "code",
   "execution_count": 31,
   "id": "76990634",
   "metadata": {},
   "outputs": [
    {
     "ename": "TypeError",
     "evalue": "test4() missing 3 required keyword-only arguments: 'a', 'b', and 'c'",
     "output_type": "error",
     "traceback": [
      "\u001b[1;31m---------------------------------------------------------------------------\u001b[0m",
      "\u001b[1;31mTypeError\u001b[0m                                 Traceback (most recent call last)",
      "\u001b[1;32m~\\AppData\\Local\\Temp/ipykernel_1556/1448662523.py\u001b[0m in \u001b[0;36m<module>\u001b[1;34m\u001b[0m\n\u001b[1;32m----> 1\u001b[1;33m \u001b[0mtest4\u001b[0m\u001b[1;33m(\u001b[0m\u001b[1;36m30\u001b[0m\u001b[1;33m,\u001b[0m\u001b[1;36m40\u001b[0m\u001b[1;33m,\u001b[0m\u001b[1;36m50\u001b[0m\u001b[1;33m,\u001b[0m\u001b[1;36m60\u001b[0m\u001b[1;33m,\u001b[0m\u001b[1;36m70\u001b[0m\u001b[1;33m)\u001b[0m\u001b[1;33m\u001b[0m\u001b[1;33m\u001b[0m\u001b[0m\n\u001b[0m",
      "\u001b[1;31mTypeError\u001b[0m: test4() missing 3 required keyword-only arguments: 'a', 'b', and 'c'"
     ]
    }
   ],
   "source": [
    "test4(30,40,50,60,70)"
   ]
  },
  {
   "cell_type": "code",
   "execution_count": 68,
   "id": "15745ebd",
   "metadata": {},
   "outputs": [],
   "source": [
    "#above its giving error since its considering all parameters in *m, so to solve this we need to specify:\n",
    "def test5(*m, a,b,c):\n",
    "    return m, a*a, b+b,c/2"
   ]
  },
  {
   "cell_type": "code",
   "execution_count": 69,
   "id": "6ecc1d38",
   "metadata": {},
   "outputs": [],
   "source": [
    "p=test5(34,56,78,a=50,b=60,c=70)"
   ]
  },
  {
   "cell_type": "code",
   "execution_count": 70,
   "id": "7943e6e1",
   "metadata": {},
   "outputs": [
    {
     "name": "stdout",
     "output_type": "stream",
     "text": [
      "((34, 56, 78), 2500, 120, 35.0)\n"
     ]
    }
   ],
   "source": [
    "print(p)"
   ]
  },
  {
   "cell_type": "code",
   "execution_count": 73,
   "id": "e2c82db6",
   "metadata": {},
   "outputs": [],
   "source": [
    "def test10(*m, a,b,c):\n",
    "    print (m, a*a, b+b,c/2)"
   ]
  },
  {
   "cell_type": "code",
   "execution_count": 74,
   "id": "cd1d0a31",
   "metadata": {},
   "outputs": [
    {
     "name": "stdout",
     "output_type": "stream",
     "text": [
      "(34, 56, 78) 2500 120 35.0\n"
     ]
    }
   ],
   "source": [
    "test10(34,56,78,a=50,b=60,c=70)"
   ]
  },
  {
   "cell_type": "raw",
   "id": "1aeeb43c",
   "metadata": {},
   "source": [
    "#Use print when you want to show a value to a human. return is a keyword. Use return when you want to send a value from one point in your code to another."
   ]
  },
  {
   "cell_type": "code",
   "execution_count": 37,
   "id": "9fc11088",
   "metadata": {},
   "outputs": [
    {
     "ename": "SyntaxError",
     "evalue": "invalid syntax (Temp/ipykernel_1556/3930231589.py, line 3)",
     "output_type": "error",
     "traceback": [
      "\u001b[1;36m  File \u001b[1;32m\"C:\\Users\\saumy\\AppData\\Local\\Temp/ipykernel_1556/3930231589.py\"\u001b[1;36m, line \u001b[1;32m3\u001b[0m\n\u001b[1;33m    test6(**kwags):\u001b[0m\n\u001b[1;37m                   ^\u001b[0m\n\u001b[1;31mSyntaxError\u001b[0m\u001b[1;31m:\u001b[0m invalid syntax\n"
     ]
    }
   ],
   "source": [
    "#n no of key value inpur has to be passed by putting 2 asterisk ** \n",
    "#kwargs=keyword argument\n",
    "test6(**kwags):\n",
    "    print(30,5,6,7)"
   ]
  },
  {
   "cell_type": "code",
   "execution_count": 77,
   "id": "edecf010",
   "metadata": {},
   "outputs": [],
   "source": [
    "#above it will give error because ** means its expecting key value pair\n",
    "def test7(**kwags):\n",
    "    return (kwags)"
   ]
  },
  {
   "cell_type": "code",
   "execution_count": 78,
   "id": "ef2c3677",
   "metadata": {},
   "outputs": [
    {
     "data": {
      "text/plain": [
       "{'a': 4, 'b': 6, 'c': 8, 'd': 12}"
      ]
     },
     "execution_count": 78,
     "metadata": {},
     "output_type": "execute_result"
    }
   ],
   "source": [
    "test7(a=4,b=6,c=8,d=12)"
   ]
  },
  {
   "cell_type": "code",
   "execution_count": 79,
   "id": "417270b8",
   "metadata": {},
   "outputs": [],
   "source": [
    "#now combine both single and double asterisk:\n",
    "def test8(*args, **kwargs):\n",
    "    return args, kwargs"
   ]
  },
  {
   "cell_type": "code",
   "execution_count": 80,
   "id": "1bff146e",
   "metadata": {},
   "outputs": [
    {
     "data": {
      "text/plain": [
       "((2, 3, 4, 5, 6), {'a': 30, 'b': 40, 'c': 50})"
      ]
     },
     "execution_count": 80,
     "metadata": {},
     "output_type": "execute_result"
    }
   ],
   "source": [
    "test8(2,3,4,5,6,a=30,b=40,c=50)"
   ]
  },
  {
   "cell_type": "code",
   "execution_count": 81,
   "id": "6be01956",
   "metadata": {},
   "outputs": [],
   "source": [
    "def test9(*n):\n",
    "    m=1\n",
    "    for i in n:\n",
    "        if type(i)==int:\n",
    "            m=m+i\n",
    "    return m\n"
   ]
  },
  {
   "cell_type": "code",
   "execution_count": 82,
   "id": "64a4cd63",
   "metadata": {},
   "outputs": [
    {
     "data": {
      "text/plain": [
       "21"
      ]
     },
     "execution_count": 82,
     "metadata": {},
     "output_type": "execute_result"
    }
   ],
   "source": [
    "test9(2,3,4,5,6)"
   ]
  },
  {
   "cell_type": "code",
   "execution_count": 83,
   "id": "fc77d6ed",
   "metadata": {},
   "outputs": [],
   "source": [
    "#anonymus function without a name=lambda function\n",
    "#lambda is a reserved keyword, has to be used in the start so that python can know\n",
    "#Never write complex logic inside lambda as it doesn't look good, as inline code will be longer\n",
    "#lambda is good for simple logic\n"
   ]
  },
  {
   "cell_type": "code",
   "execution_count": 85,
   "id": "02c3559e",
   "metadata": {},
   "outputs": [],
   "source": [
    "n=(lambda a,b:a+b)"
   ]
  },
  {
   "cell_type": "code",
   "execution_count": 86,
   "id": "111df982",
   "metadata": {},
   "outputs": [
    {
     "data": {
      "text/plain": [
       "5"
      ]
     },
     "execution_count": 86,
     "metadata": {},
     "output_type": "execute_result"
    }
   ],
   "source": [
    "n(2,3) #\"n\" is fun name by which we'll call the function"
   ]
  },
  {
   "cell_type": "code",
   "execution_count": 101,
   "id": "e5a1a94e",
   "metadata": {},
   "outputs": [],
   "source": [
    "n=(lambda *c: c*2)"
   ]
  },
  {
   "cell_type": "code",
   "execution_count": 260,
   "id": "9b348f18",
   "metadata": {},
   "outputs": [
    {
     "data": {
      "text/plain": [
       "(20, 40, 60, 20, 40, 60)"
      ]
     },
     "execution_count": 260,
     "metadata": {},
     "output_type": "execute_result"
    }
   ],
   "source": [
    "n(20,40,60)"
   ]
  },
  {
   "cell_type": "code",
   "execution_count": 261,
   "id": "7dae672d",
   "metadata": {},
   "outputs": [],
   "source": [
    "#same as above\n",
    "def test11(*c):\n",
    "    return c*2"
   ]
  },
  {
   "cell_type": "code",
   "execution_count": 262,
   "id": "54ad5657",
   "metadata": {},
   "outputs": [
    {
     "data": {
      "text/plain": [
       "(20, 30, 40, 20, 30, 40)"
      ]
     },
     "execution_count": 262,
     "metadata": {},
     "output_type": "execute_result"
    }
   ],
   "source": [
    "test11(20,30,40)"
   ]
  },
  {
   "cell_type": "code",
   "execution_count": 257,
   "id": "e60a30a8",
   "metadata": {},
   "outputs": [],
   "source": [
    "#if you have perform division then itirate though each element using for loop,append and return. Directly using b/2 in return statement it wont happen\n",
    "def test12(*b):\n",
    "    l=[]\n",
    "    for i in b:\n",
    "        l.append(i/2)\n",
    "    return l\n",
    "\n",
    "#def test12(*b):\n",
    "#    return(b/2)"
   ]
  },
  {
   "cell_type": "code",
   "execution_count": 258,
   "id": "48522269",
   "metadata": {},
   "outputs": [
    {
     "data": {
      "text/plain": [
       "[10.0, 15.0]"
      ]
     },
     "execution_count": 258,
     "metadata": {},
     "output_type": "execute_result"
    }
   ],
   "source": [
    "test12(20,30)"
   ]
  },
  {
   "cell_type": "code",
   "execution_count": 111,
   "id": "f0aa0524",
   "metadata": {},
   "outputs": [],
   "source": [
    "#list comprehension\n",
    "t=(20,30,40,50)\n",
    "l=[]\n",
    "for i in t:\n",
    "    l.append(i)\n",
    "    "
   ]
  },
  {
   "cell_type": "code",
   "execution_count": 112,
   "id": "1c66f22f",
   "metadata": {},
   "outputs": [
    {
     "data": {
      "text/plain": [
       "[20, 30, 40, 50]"
      ]
     },
     "execution_count": 112,
     "metadata": {},
     "output_type": "execute_result"
    }
   ],
   "source": [
    "l"
   ]
  },
  {
   "cell_type": "code",
   "execution_count": 114,
   "id": "d49374c3",
   "metadata": {},
   "outputs": [
    {
     "data": {
      "text/plain": [
       "[20, 30, 40, 50]"
      ]
     },
     "execution_count": 114,
     "metadata": {},
     "output_type": "execute_result"
    }
   ],
   "source": [
    "#same as above\n",
    "[i for i in t] #so here first put \"for i in t\" and in the left of it return statement inside sq bracket which denotes list\n",
    "#append function is not needed as it is already inside a list[]"
   ]
  },
  {
   "cell_type": "code",
   "execution_count": 116,
   "id": "033c6691",
   "metadata": {},
   "outputs": [
    {
     "data": {
      "text/plain": [
       "['s', 'a', 'u', 'm', 'y', 'a']"
      ]
     },
     "execution_count": 116,
     "metadata": {},
     "output_type": "execute_result"
    }
   ],
   "source": [
    "a=\"saumya\"\n",
    "[i for i in a]"
   ]
  },
  {
   "cell_type": "code",
   "execution_count": 117,
   "id": "65e8a68d",
   "metadata": {},
   "outputs": [
    {
     "data": {
      "text/plain": [
       "[0, 1, 4, 9, 16, 25, 36, 49, 64, 81]"
      ]
     },
     "execution_count": 117,
     "metadata": {},
     "output_type": "execute_result"
    }
   ],
   "source": [
    "[i*i for i in range(0,10)] #square of nos from 0 to 10"
   ]
  },
  {
   "cell_type": "code",
   "execution_count": 131,
   "id": "2c18b469",
   "metadata": {},
   "outputs": [],
   "source": [
    "#same as above\n",
    "l=[]\n",
    "for i in range(10):\n",
    "    l.append(i*i)\n",
    "    \n"
   ]
  },
  {
   "cell_type": "code",
   "execution_count": 132,
   "id": "0699f766",
   "metadata": {},
   "outputs": [
    {
     "data": {
      "text/plain": [
       "[0, 1, 4, 9, 16, 25, 36, 49, 64, 81]"
      ]
     },
     "execution_count": 132,
     "metadata": {},
     "output_type": "execute_result"
    }
   ],
   "source": [
    "l\n"
   ]
  },
  {
   "cell_type": "code",
   "execution_count": 149,
   "id": "94a8737a",
   "metadata": {},
   "outputs": [],
   "source": [
    "#combining lamda and list comprehension\n",
    "#convert tupple elements inside n to list and square all elements\n",
    "m=(lambda *n: [i**2 for i in n]) #in right side of : I have provided list comprehension inside[]"
   ]
  },
  {
   "cell_type": "code",
   "execution_count": 150,
   "id": "0ddffff1",
   "metadata": {},
   "outputs": [
    {
     "data": {
      "text/plain": [
       "[400, 900, 1600]"
      ]
     },
     "execution_count": 150,
     "metadata": {},
     "output_type": "execute_result"
    }
   ],
   "source": [
    "m(20,30,40)"
   ]
  },
  {
   "cell_type": "code",
   "execution_count": 227,
   "id": "185df064",
   "metadata": {},
   "outputs": [],
   "source": [
    "def test15(**kwargs):\n",
    "    count=0\n",
    "    #print(kwargs)\n",
    "    for i in kwargs.values():\n",
    "        if type(i)==str or type(i)==list:\n",
    "            count= count+1\n",
    "    return count"
   ]
  },
  {
   "cell_type": "code",
   "execution_count": 228,
   "id": "c399e3b0",
   "metadata": {},
   "outputs": [
    {
     "data": {
      "text/plain": [
       "3"
      ]
     },
     "execution_count": 228,
     "metadata": {},
     "output_type": "execute_result"
    }
   ],
   "source": [
    "#count no of strings\n",
    "test15(a=7, b=\"saumya\", c=20, d=\"gupta\", l=[20,30,40,\"summi\"])"
   ]
  },
  {
   "cell_type": "code",
   "execution_count": null,
   "id": "882aac3d",
   "metadata": {},
   "outputs": [],
   "source": [
    "#write this function using lambda and list comprehension, count is not possible with lamda and list comprehension\n",
    "\n",
    "test15=(lambda **kwargs: [if type(i)==str or type(i)==list for i in kwargs.values()])"
   ]
  },
  {
   "cell_type": "code",
   "execution_count": 221,
   "id": "9a631fad",
   "metadata": {},
   "outputs": [],
   "source": [
    "#return list of all the values\n",
    "def test16( **kwargs):\n",
    "    return list(kwargs.values())"
   ]
  },
  {
   "cell_type": "code",
   "execution_count": 222,
   "id": "eb4f2357",
   "metadata": {},
   "outputs": [
    {
     "data": {
      "text/plain": [
       "[7, 'saumya', 20, 'gupta', [20, 30, 40, 'summi']]"
      ]
     },
     "execution_count": 222,
     "metadata": {},
     "output_type": "execute_result"
    }
   ],
   "source": [
    "test16(a=7, b=\"saumya\", c=20, d=\"gupta\", l=[20,30,40,\"summi\"])"
   ]
  },
  {
   "cell_type": "code",
   "execution_count": 225,
   "id": "73c92832",
   "metadata": {},
   "outputs": [],
   "source": [
    "#same as above\n",
    "def test17(**kwargs):\n",
    "    l=[]\n",
    "    for i in kwargs.values():\n",
    "        l.append(i)\n",
    "    return l"
   ]
  },
  {
   "cell_type": "code",
   "execution_count": 226,
   "id": "557d5f37",
   "metadata": {},
   "outputs": [
    {
     "data": {
      "text/plain": [
       "[7, 'saumya', 20, 'gupta', [20, 30, 40, 'summi']]"
      ]
     },
     "execution_count": 226,
     "metadata": {},
     "output_type": "execute_result"
    }
   ],
   "source": [
    "test17(a=7, b=\"saumya\", c=20, d=\"gupta\", l=[20,30,40,\"summi\"])"
   ]
  },
  {
   "cell_type": "code",
   "execution_count": 234,
   "id": "9cd06933",
   "metadata": {},
   "outputs": [],
   "source": [
    "l=[20,30,40,45,67]"
   ]
  },
  {
   "cell_type": "code",
   "execution_count": 238,
   "id": "f7294fb9",
   "metadata": {},
   "outputs": [
    {
     "data": {
      "text/plain": [
       "[30]"
      ]
     },
     "execution_count": 238,
     "metadata": {},
     "output_type": "execute_result"
    }
   ],
   "source": [
    "[i for i in l if i>20 and i<40]"
   ]
  },
  {
   "cell_type": "code",
   "execution_count": null,
   "id": "fffc95e9",
   "metadata": {},
   "outputs": [],
   "source": []
  }
 ],
 "metadata": {
  "kernelspec": {
   "display_name": "Python 3 (ipykernel)",
   "language": "python",
   "name": "python3"
  },
  "language_info": {
   "codemirror_mode": {
    "name": "ipython",
    "version": 3
   },
   "file_extension": ".py",
   "mimetype": "text/x-python",
   "name": "python",
   "nbconvert_exporter": "python",
   "pygments_lexer": "ipython3",
   "version": "3.9.7"
  }
 },
 "nbformat": 4,
 "nbformat_minor": 5
}
