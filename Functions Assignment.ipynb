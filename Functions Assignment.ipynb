{
 "cells": [
  {
   "cell_type": "raw",
   "id": "65f50e60",
   "metadata": {},
   "source": [
    "    q1 : Try to print a prime number in between 1 to 1000\n",
    "    q2 : Try to write a function which is equivalent to print function in python\n",
    "    q3 : Try to write a function which is a replica of list append , extend and pop function \n",
    "    q4 : Try to write a lambda function which can return a concatination of all the string that we will pass\n",
    "    q5 : Try to write a lambda function which can return list of square of all the data between 1-100 \n",
    "    q6 : Try to write a 10 Different different example of lambda function with a choice of your tasks \n",
    "    q7 : Try to write a funtion which can perform a read operation from .txt file "
   ]
  },
  {
   "cell_type": "code",
   "execution_count": 10,
   "id": "72e528f4",
   "metadata": {},
   "outputs": [],
   "source": [
    "#q1 : Try to print a prime number in between 1 to 1000\n",
    "def prime(*n):\n",
    "    l=[]\n",
    "    for i in range(1,*n):\n",
    "        if i>1:\n",
    "            \n",
    "        if i%1==0 or i%i==0:\n",
    "            l.append(i)\n",
    "    print(l)"
   ]
  },
  {
   "cell_type": "code",
   "execution_count": 11,
   "id": "734a8b0b",
   "metadata": {},
   "outputs": [
    {
     "name": "stdout",
     "output_type": "stream",
     "text": [
      "[24, 1, 64, 7, 30]\n"
     ]
    }
   ],
   "source": [
    "prime(24,1,64,7,30)"
   ]
  },
  {
   "cell_type": "code",
   "execution_count": 23,
   "id": "58e34d0a",
   "metadata": {},
   "outputs": [],
   "source": [
    "#4 q4 : Try to write a lambda function which can return a concatination of all the string that we will pass\n",
    "a=(lambda *n:n+n) "
   ]
  },
  {
   "cell_type": "code",
   "execution_count": 24,
   "id": "65ebca19",
   "metadata": {},
   "outputs": [
    {
     "data": {
      "text/plain": [
       "('saumya', 'gupta', 'saumya', 'gupta')"
      ]
     },
     "execution_count": 24,
     "metadata": {},
     "output_type": "execute_result"
    }
   ],
   "source": [
    "a(\"saumya\",\"gupta\")\n"
   ]
  },
  {
   "cell_type": "code",
   "execution_count": 25,
   "id": "aac32c8d",
   "metadata": {},
   "outputs": [],
   "source": [
    "#5\n",
    "#Try to write a lambda function which can return list of square of all the data between 1-100 "
   ]
  },
  {
   "cell_type": "code",
   "execution_count": 26,
   "id": "58c330ec",
   "metadata": {},
   "outputs": [],
   "source": [
    "b=(lambda *n:[i*i for i in n])"
   ]
  },
  {
   "cell_type": "code",
   "execution_count": 28,
   "id": "174c4b1c",
   "metadata": {},
   "outputs": [
    {
     "data": {
      "text/plain": [
       "[4, 9, 16]"
      ]
     },
     "execution_count": 28,
     "metadata": {},
     "output_type": "execute_result"
    }
   ],
   "source": [
    "b(2,3,4)"
   ]
  },
  {
   "cell_type": "code",
   "execution_count": 29,
   "id": "165840f8",
   "metadata": {},
   "outputs": [],
   "source": [
    "#start from question 1, ask the logic in ineuron, why this logic isn't working?  if i%1==0 or i%i==0:\n",
    "#only solved question 5"
   ]
  },
  {
   "cell_type": "code",
   "execution_count": 30,
   "id": "8e4c529d",
   "metadata": {},
   "outputs": [],
   "source": [
    "#q3: Try to write a function which is a replica of list append, extend and pop function "
   ]
  },
  {
   "cell_type": "code",
   "execution_count": 43,
   "id": "29206d99",
   "metadata": {},
   "outputs": [],
   "source": [
    "def add1(*n, *m):\n",
    "    l=[7,8,9,10]\n",
    "    n+l\n",
    "    return(n)\n",
    "\n",
    "        \n",
    "        \n",
    "    "
   ]
  },
  {
   "cell_type": "code",
   "execution_count": 44,
   "id": "049a51b1",
   "metadata": {
    "scrolled": false
   },
   "outputs": [
    {
     "ename": "TypeError",
     "evalue": "'function' object is not subscriptable",
     "output_type": "error",
     "traceback": [
      "\u001b[1;31m---------------------------------------------------------------------------\u001b[0m",
      "\u001b[1;31mTypeError\u001b[0m                                 Traceback (most recent call last)",
      "\u001b[1;32m~\\AppData\\Local\\Temp/ipykernel_7192/250947442.py\u001b[0m in \u001b[0;36m<module>\u001b[1;34m\u001b[0m\n\u001b[1;32m----> 1\u001b[1;33m \u001b[0madd1\u001b[0m\u001b[1;33m[\u001b[0m\u001b[1;36m2\u001b[0m\u001b[1;33m,\u001b[0m\u001b[1;36m3\u001b[0m\u001b[1;33m,\u001b[0m\u001b[1;36m4\u001b[0m\u001b[1;33m,\u001b[0m\u001b[1;36m5\u001b[0m\u001b[1;33m,\u001b[0m\u001b[1;36m6\u001b[0m\u001b[1;33m]\u001b[0m\u001b[1;33m\u001b[0m\u001b[1;33m\u001b[0m\u001b[0m\n\u001b[0m",
      "\u001b[1;31mTypeError\u001b[0m: 'function' object is not subscriptable"
     ]
    }
   ],
   "source": [
    "add1[2,3,4,5,6]"
   ]
  },
  {
   "cell_type": "code",
   "execution_count": null,
   "id": "18277e7f",
   "metadata": {},
   "outputs": [],
   "source": [
    "lower = 1\n",
    "upper = 1000\n",
    "\n",
    "#print(\"Prime numbers between\", lower, \"and\", upper, \"are:\")\n",
    "\n",
    "for i in range(lower, upper + 1):\n",
    "   # all prime numbers are greater than 1\n",
    "   if i > 1:\n",
    "       for i in range(2, i):\n",
    "           if (num % i) == 0:\n",
    "               break\n",
    "       else:\n",
    "           print(num)"
   ]
  },
  {
   "cell_type": "code",
   "execution_count": null,
   "id": "36fe97de",
   "metadata": {},
   "outputs": [],
   "source": [
    "#pass 2 list\n",
    "#>>> x = [4, 5]\n",
    ">>> y = x + [7]\n",
    ">>> x\n",
    "[4, 5]\n",
    ">>> y\n",
    "[4, 5, 7]"
   ]
  },
  {
   "cell_type": "code",
   "execution_count": null,
   "id": "6f778625",
   "metadata": {},
   "outputs": [],
   "source": [
    "#2"
   ]
  }
 ],
 "metadata": {
  "kernelspec": {
   "display_name": "Python 3 (ipykernel)",
   "language": "python",
   "name": "python3"
  },
  "language_info": {
   "codemirror_mode": {
    "name": "ipython",
    "version": 3
   },
   "file_extension": ".py",
   "mimetype": "text/x-python",
   "name": "python",
   "nbconvert_exporter": "python",
   "pygments_lexer": "ipython3",
   "version": "3.9.7"
  }
 },
 "nbformat": 4,
 "nbformat_minor": 5
}
