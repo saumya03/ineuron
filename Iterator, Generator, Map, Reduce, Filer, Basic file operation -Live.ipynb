{
 "cells": [
  {
   "cell_type": "markdown",
   "id": "8dba0b19",
   "metadata": {},
   "source": [
    "# Iterator, Generator"
   ]
  },
  {
   "cell_type": "code",
   "execution_count": 3,
   "id": "037a056e",
   "metadata": {},
   "outputs": [],
   "source": [
    "l =range(1,10)"
   ]
  },
  {
   "cell_type": "code",
   "execution_count": 4,
   "id": "976be848",
   "metadata": {},
   "outputs": [
    {
     "data": {
      "text/plain": [
       "[1, 2, 3, 4, 5, 6, 7, 8, 9]"
      ]
     },
     "execution_count": 4,
     "metadata": {},
     "output_type": "execute_result"
    }
   ],
   "source": [
    "#range will give us data from 1 to 10 excluding 10, put list in front to see the data\n",
    "list(range(1,10))"
   ]
  },
  {
   "cell_type": "code",
   "execution_count": 5,
   "id": "11d97bc1",
   "metadata": {},
   "outputs": [
    {
     "data": {
      "text/plain": [
       "[1, 4, 9, 16, 25, 36, 49, 64, 81]"
      ]
     },
     "execution_count": 5,
     "metadata": {},
     "output_type": "execute_result"
    }
   ],
   "source": [
    "[i*i for i in l]"
   ]
  },
  {
   "cell_type": "code",
   "execution_count": 47,
   "id": "ed5416f0",
   "metadata": {},
   "outputs": [],
   "source": [
    "def square_fun(*n):\n",
    "    x = [i*i for i in n]\n",
    "    return x"
   ]
  },
  {
   "cell_type": "code",
   "execution_count": 55,
   "id": "481488b2",
   "metadata": {},
   "outputs": [
    {
     "data": {
      "text/plain": [
       "[4, 9, 16, 25, 81]"
      ]
     },
     "execution_count": 55,
     "metadata": {},
     "output_type": "execute_result"
    }
   ],
   "source": [
    "square_fun(2,3,4,5,9)"
   ]
  },
  {
   "cell_type": "code",
   "execution_count": 49,
   "id": "e97fe21d",
   "metadata": {},
   "outputs": [],
   "source": [
    "#generator function, instead of return we want to generate the data-use yield:\n",
    "def square_fun2(*n):\n",
    "    x = [i*i for i in n]\n",
    "    yield x"
   ]
  },
  {
   "cell_type": "code",
   "execution_count": 54,
   "id": "917faaad",
   "metadata": {},
   "outputs": [
    {
     "data": {
      "text/plain": [
       "<generator object square_fun2 at 0x00000162FE632190>"
      ]
     },
     "execution_count": 54,
     "metadata": {},
     "output_type": "execute_result"
    }
   ],
   "source": [
    "square_fun2(3,4,5,6,9) #it gives object output that can be used in for loop to generate the data"
   ]
  },
  {
   "cell_type": "code",
   "execution_count": 53,
   "id": "dbce2ff7",
   "metadata": {},
   "outputs": [
    {
     "name": "stdout",
     "output_type": "stream",
     "text": [
      "[9, 16, 25, 36, 64, 81, 100, 121]\n"
     ]
    }
   ],
   "source": [
    "for i in square_fun2(3,4,5,6,8,9,10,11):\n",
    "    print(i)"
   ]
  },
  {
   "cell_type": "markdown",
   "id": "207eaa95",
   "metadata": {},
   "source": [
    "# Basic File operation"
   ]
  },
  {
   "cell_type": "code",
   "execution_count": 61,
   "id": "3f59d3ee",
   "metadata": {},
   "outputs": [
    {
     "name": "stderr",
     "output_type": "stream",
     "text": [
      "UsageError: Line magic function `%%writefile` not found.\n"
     ]
    }
   ],
   "source": [
    "#to store the output or text we can use this below syntax ##writefile file_name.txt\n",
    "%%writefile testwrite.text\n",
    "for i in square_fun2(3,4,5,6,8,9,10,11):\n",
    "    print(i)"
   ]
  },
  {
   "cell_type": "code",
   "execution_count": 59,
   "id": "1788c87b",
   "metadata": {},
   "outputs": [
    {
     "name": "stdout",
     "output_type": "stream",
     "text": [
      " Volume in drive C is OS\n",
      " Volume Serial Number is D258-0EC0\n",
      "\n",
      " Directory of C:\\Users\\saumy\n",
      "\n",
      "03-08-2022  08:12 PM    <DIR>          .\n",
      "03-08-2022  08:12 PM    <DIR>          ..\n",
      "24-11-2018  06:02 PM    <DIR>          .anaconda\n",
      "14-06-2021  07:31 PM    <DIR>          .astropy\n",
      "05-06-2022  05:06 PM    <DIR>          .conda\n",
      "05-02-2022  09:52 PM                60 .condarc\n",
      "14-06-2021  03:21 PM    <DIR>          .continuum\n",
      "17-07-2022  07:25 PM                56 .gitconfig\n",
      "03-08-2022  04:23 PM    <DIR>          .ipynb_checkpoints\n",
      "24-11-2018  06:05 PM    <DIR>          .ipython\n",
      "24-11-2018  11:06 PM    <DIR>          .jupyter\n",
      "14-06-2021  03:22 PM    <DIR>          .matplotlib\n",
      "06-02-2022  06:01 PM    <DIR>          .pyforest\n",
      "14-07-2022  08:12 PM    <DIR>          .spyder-py3\n",
      "18-03-2021  04:17 PM    <DIR>          3D Objects\n",
      "18-02-2022  10:25 PM    <DIR>          anaconda3\n",
      "24-07-2022  03:33 PM            47,298 Attribute DataSet.xlsx\n",
      "18-03-2021  04:17 PM    <DIR>          Contacts\n",
      "21-11-2019  08:05 PM    <DIR>          Creative Cloud Files\n",
      "29-07-2022  04:30 PM    <DIR>          Desktop\n",
      "18-06-2022  08:58 PM    <DIR>          Documents\n",
      "02-08-2022  01:35 PM    <DIR>          Downloads\n",
      "24-07-2022  03:33 PM            74,296 Dress Sales.xlsx\n",
      "12-05-2021  10:02 AM    <DIR>          Dropbox\n",
      "18-03-2021  04:17 PM    <DIR>          Favorites\n",
      "29-07-2022  02:05 PM             6,222 Functions Assignment.ipynb\n",
      "31-07-2022  03:18 PM            18,320 Functions Live.ipynb\n",
      "24-07-2022  04:08 PM             3,103 haberman (1).csv\n",
      "04-07-2022  07:34 PM            10,087 Hackerrank.ipynb\n",
      "31-07-2022  06:44 PM    <DIR>          iNeuron Assignments\n",
      "03-08-2022  08:11 PM             3,251 Iterator, Generator, Map, Reduce, Filer, Basic file operation -Live.ipynb\n",
      "14-06-2021  03:44 PM    <DIR>          Jedi\n",
      "18-03-2021  04:17 PM    <DIR>          Links\n",
      "18-03-2021  04:17 PM    <DIR>          Music\n",
      "06-08-2021  09:57 AM    <DIR>          OneDrive\n",
      "31-07-2022  09:37 PM            58,778 Pandas 2 live.ipynb\n",
      "18-03-2021  04:17 PM    <DIR>          Pictures\n",
      "17-07-2022  08:08 PM    <DIR>          PycharmProjects\n",
      "18-04-2018  05:11 AM    <DIR>          Roaming\n",
      "18-03-2021  04:17 PM    <DIR>          Saved Games\n",
      "04-02-2022  11:07 PM    <DIR>          seaborn-data\n",
      "19-05-2022  06:25 PM    <DIR>          Searches\n",
      "03-08-2022  08:12 PM                56 testwrite.text\n",
      "07-07-2022  08:48 PM               588 Untitled.ipynb\n",
      "31-07-2022  03:18 PM                72 Untitled1.ipynb\n",
      "18-03-2021  04:17 PM    <DIR>          Videos\n",
      "              13 File(s)        222,187 bytes\n",
      "              33 Dir(s)  17,836,605,440 bytes free\n"
     ]
    }
   ],
   "source": [
    "ls #to search the location of my file"
   ]
  },
  {
   "cell_type": "code",
   "execution_count": 64,
   "id": "762c0671",
   "metadata": {},
   "outputs": [],
   "source": [
    "#if we want to read the file from python:\n",
    "f = open('testwrite.text')"
   ]
  },
  {
   "cell_type": "code",
   "execution_count": 65,
   "id": "007d152f",
   "metadata": {},
   "outputs": [
    {
     "data": {
      "text/plain": [
       "'for i in square_fun2(3,4,5,6,8,9,10,11):\\n    print(i)\\n'"
      ]
     },
     "execution_count": 65,
     "metadata": {},
     "output_type": "execute_result"
    }
   ],
   "source": [
    "f.read() #\\n for each new line"
   ]
  },
  {
   "cell_type": "markdown",
   "id": "8f5abcb4",
   "metadata": {},
   "source": [
    "# MAP, Reduce, Filter"
   ]
  },
  {
   "cell_type": "code",
   "execution_count": 68,
   "id": "0d4a7200",
   "metadata": {},
   "outputs": [],
   "source": [
    "#MAP"
   ]
  },
  {
   "cell_type": "code",
   "execution_count": 87,
   "id": "89e88eef",
   "metadata": {},
   "outputs": [],
   "source": [
    "a = (lambda *x: x*2)\n",
    "a(3,4,5)\n",
    "\n"
   ]
  },
  {
   "cell_type": "code",
   "execution_count": 6,
   "id": "979c6e95",
   "metadata": {},
   "outputs": [],
   "source": [
    "li=[2,3,4,5]"
   ]
  },
  {
   "cell_type": "code",
   "execution_count": 106,
   "id": "24d39295",
   "metadata": {},
   "outputs": [
    {
     "data": {
      "text/plain": [
       "[4, 6, 8, 10]"
      ]
     },
     "execution_count": 106,
     "metadata": {},
     "output_type": "execute_result"
    }
   ],
   "source": [
    "list(map(lambda x: x*2, l))"
   ]
  },
  {
   "cell_type": "code",
   "execution_count": 107,
   "id": "9e96817c",
   "metadata": {},
   "outputs": [],
   "source": [
    "#convert into string"
   ]
  },
  {
   "cell_type": "code",
   "execution_count": 108,
   "id": "91a28f8b",
   "metadata": {},
   "outputs": [],
   "source": [
    "#external function\n",
    "def str_c(x):\n",
    "    return str(x)"
   ]
  },
  {
   "cell_type": "code",
   "execution_count": 109,
   "id": "addf59d5",
   "metadata": {},
   "outputs": [
    {
     "data": {
      "text/plain": [
       "['2', '3', '4', '5']"
      ]
     },
     "execution_count": 109,
     "metadata": {},
     "output_type": "execute_result"
    }
   ],
   "source": [
    "list(map(str_c,li)) #map takes 2 arguments(function, iterable(list))"
   ]
  },
  {
   "cell_type": "code",
   "execution_count": 110,
   "id": "da0e12fd",
   "metadata": {},
   "outputs": [
    {
     "data": {
      "text/plain": [
       "['2', '3', '4', '5']"
      ]
     },
     "execution_count": 110,
     "metadata": {},
     "output_type": "execute_result"
    }
   ],
   "source": [
    "list(map(lambda x:str(x),li))"
   ]
  },
  {
   "cell_type": "code",
   "execution_count": 3,
   "id": "4d50ad04",
   "metadata": {},
   "outputs": [],
   "source": [
    "#Filter"
   ]
  },
  {
   "cell_type": "code",
   "execution_count": 10,
   "id": "c789a822",
   "metadata": {},
   "outputs": [
    {
     "data": {
      "text/plain": [
       "[3, 5]"
      ]
     },
     "execution_count": 10,
     "metadata": {},
     "output_type": "execute_result"
    }
   ],
   "source": [
    "list(filter(lambda n: n%2!=0, li)) #filter always looks for true condition"
   ]
  },
  {
   "cell_type": "code",
   "execution_count": 11,
   "id": "71a56b9b",
   "metadata": {},
   "outputs": [
    {
     "data": {
      "text/plain": [
       "[False, True, False, True]"
      ]
     },
     "execution_count": 11,
     "metadata": {},
     "output_type": "execute_result"
    }
   ],
   "source": [
    "list(map(lambda n: n%2!=0, li)) #map checks everything"
   ]
  },
  {
   "cell_type": "code",
   "execution_count": 13,
   "id": "fa1409ab",
   "metadata": {},
   "outputs": [],
   "source": [
    "#External function\n",
    "def check_even(n):\n",
    "    if n%2!=0:\n",
    "        return True"
   ]
  },
  {
   "cell_type": "code",
   "execution_count": 15,
   "id": "2735318d",
   "metadata": {},
   "outputs": [
    {
     "data": {
      "text/plain": [
       "[3, 5]"
      ]
     },
     "execution_count": 15,
     "metadata": {},
     "output_type": "execute_result"
    }
   ],
   "source": [
    "list(filter(check_even,li))"
   ]
  },
  {
   "cell_type": "code",
   "execution_count": 111,
   "id": "17c4d18f",
   "metadata": {},
   "outputs": [],
   "source": [
    "#Reduce"
   ]
  },
  {
   "cell_type": "code",
   "execution_count": 2,
   "id": "335dfb3c",
   "metadata": {},
   "outputs": [
    {
     "ename": "ModuleNotFoundError",
     "evalue": "No module named 'funtools'",
     "output_type": "error",
     "traceback": [
      "\u001b[1;31m---------------------------------------------------------------------------\u001b[0m",
      "\u001b[1;31mModuleNotFoundError\u001b[0m                       Traceback (most recent call last)",
      "\u001b[1;32m~\\AppData\\Local\\Temp/ipykernel_21228/1689213244.py\u001b[0m in \u001b[0;36m<module>\u001b[1;34m\u001b[0m\n\u001b[1;32m----> 1\u001b[1;33m \u001b[1;32mfrom\u001b[0m \u001b[0mfuntools\u001b[0m \u001b[1;32mimport\u001b[0m \u001b[0mreduce\u001b[0m\u001b[1;33m\u001b[0m\u001b[1;33m\u001b[0m\u001b[0m\n\u001b[0m",
      "\u001b[1;31mModuleNotFoundError\u001b[0m: No module named 'funtools'"
     ]
    }
   ],
   "source": [
    "from funtools import reduce"
   ]
  },
  {
   "cell_type": "code",
   "execution_count": 1,
   "id": "2df29ee8",
   "metadata": {},
   "outputs": [
    {
     "name": "stdout",
     "output_type": "stream",
     "text": [
      "Note: you may need to restart the kernel to use updated packages.\n"
     ]
    },
    {
     "name": "stderr",
     "output_type": "stream",
     "text": [
      "ERROR: Could not find a version that satisfies the requirement funtools (from versions: none)\n",
      "ERROR: No matching distribution found for funtools\n"
     ]
    }
   ],
   "source": [
    "pip install funtools"
   ]
  },
  {
   "cell_type": "code",
   "execution_count": null,
   "id": "b1329693",
   "metadata": {},
   "outputs": [],
   "source": []
  }
 ],
 "metadata": {
  "kernelspec": {
   "display_name": "Python 3 (ipykernel)",
   "language": "python",
   "name": "python3"
  },
  "language_info": {
   "codemirror_mode": {
    "name": "ipython",
    "version": 3
   },
   "file_extension": ".py",
   "mimetype": "text/x-python",
   "name": "python",
   "nbconvert_exporter": "python",
   "pygments_lexer": "ipython3",
   "version": "3.9.7"
  }
 },
 "nbformat": 4,
 "nbformat_minor": 5
}
